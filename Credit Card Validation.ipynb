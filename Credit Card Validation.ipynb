{
 "cells": [
  {
   "cell_type": "markdown",
   "id": "8b595fcf",
   "metadata": {},
   "source": [
    "# 1. Importing Libraries"
   ]
  },
  {
   "cell_type": "code",
   "execution_count": 59,
   "id": "ca6879df",
   "metadata": {
    "_cell_guid": "b1076dfc-b9ad-4769-8c92-a6c4dae69d19",
    "_uuid": "8f2839f25d086af736a60e9eeb907d3b93b6e0e5",
    "execution": {
     "iopub.execute_input": "2022-09-26T04:14:00.953890Z",
     "iopub.status.busy": "2022-09-26T04:14:00.953394Z",
     "iopub.status.idle": "2022-09-26T04:14:00.974620Z",
     "shell.execute_reply": "2022-09-26T04:14:00.973629Z"
    },
    "papermill": {
     "duration": 0.0347,
     "end_time": "2022-09-26T04:14:00.977037",
     "exception": false,
     "start_time": "2022-09-26T04:14:00.942337",
     "status": "completed"
    },
    "tags": []
   },
   "outputs": [],
   "source": [
    "import numpy as np\n",
    "import pandas as pd "
   ]
  },
  {
   "cell_type": "markdown",
   "id": "34f149ac",
   "metadata": {},
   "source": [
    "# 2. Inspecting the applications"
   ]
  },
  {
   "cell_type": "code",
   "execution_count": 60,
   "id": "1414942c",
   "metadata": {
    "execution": {
     "iopub.execute_input": "2022-09-26T04:14:01.001738Z",
     "iopub.status.busy": "2022-09-26T04:14:01.001064Z",
     "iopub.status.idle": "2022-09-26T04:14:01.064131Z",
     "shell.execute_reply": "2022-09-26T04:14:01.063157Z"
    },
    "papermill": {
     "duration": 0.072329,
     "end_time": "2022-09-26T04:14:01.066464",
     "exception": false,
     "start_time": "2022-09-26T04:14:00.994135",
     "status": "completed"
    },
    "tags": []
   },
   "outputs": [
    {
     "data": {
      "text/html": [
       "<div>\n",
       "<style scoped>\n",
       "    .dataframe tbody tr th:only-of-type {\n",
       "        vertical-align: middle;\n",
       "    }\n",
       "\n",
       "    .dataframe tbody tr th {\n",
       "        vertical-align: top;\n",
       "    }\n",
       "\n",
       "    .dataframe thead th {\n",
       "        text-align: right;\n",
       "    }\n",
       "</style>\n",
       "<table border=\"1\" class=\"dataframe\">\n",
       "  <thead>\n",
       "    <tr style=\"text-align: right;\">\n",
       "      <th></th>\n",
       "      <th>A1</th>\n",
       "      <th>A2</th>\n",
       "      <th>A3</th>\n",
       "      <th>A4</th>\n",
       "      <th>A5</th>\n",
       "      <th>A6</th>\n",
       "      <th>A7</th>\n",
       "      <th>A8</th>\n",
       "      <th>A9</th>\n",
       "      <th>A10</th>\n",
       "      <th>A11</th>\n",
       "      <th>A12</th>\n",
       "      <th>A13</th>\n",
       "      <th>A14</th>\n",
       "      <th>A15</th>\n",
       "      <th>A16</th>\n",
       "    </tr>\n",
       "  </thead>\n",
       "  <tbody>\n",
       "    <tr>\n",
       "      <th>0</th>\n",
       "      <td>b</td>\n",
       "      <td>30.83</td>\n",
       "      <td>0.000</td>\n",
       "      <td>u</td>\n",
       "      <td>g</td>\n",
       "      <td>w</td>\n",
       "      <td>v</td>\n",
       "      <td>1.25</td>\n",
       "      <td>t</td>\n",
       "      <td>t</td>\n",
       "      <td>1</td>\n",
       "      <td>f</td>\n",
       "      <td>g</td>\n",
       "      <td>00202</td>\n",
       "      <td>0</td>\n",
       "      <td>+</td>\n",
       "    </tr>\n",
       "    <tr>\n",
       "      <th>1</th>\n",
       "      <td>a</td>\n",
       "      <td>58.67</td>\n",
       "      <td>4.460</td>\n",
       "      <td>u</td>\n",
       "      <td>g</td>\n",
       "      <td>q</td>\n",
       "      <td>h</td>\n",
       "      <td>3.04</td>\n",
       "      <td>t</td>\n",
       "      <td>t</td>\n",
       "      <td>6</td>\n",
       "      <td>f</td>\n",
       "      <td>g</td>\n",
       "      <td>00043</td>\n",
       "      <td>560</td>\n",
       "      <td>+</td>\n",
       "    </tr>\n",
       "    <tr>\n",
       "      <th>2</th>\n",
       "      <td>a</td>\n",
       "      <td>24.50</td>\n",
       "      <td>0.500</td>\n",
       "      <td>u</td>\n",
       "      <td>g</td>\n",
       "      <td>q</td>\n",
       "      <td>h</td>\n",
       "      <td>1.50</td>\n",
       "      <td>t</td>\n",
       "      <td>f</td>\n",
       "      <td>0</td>\n",
       "      <td>f</td>\n",
       "      <td>g</td>\n",
       "      <td>00280</td>\n",
       "      <td>824</td>\n",
       "      <td>+</td>\n",
       "    </tr>\n",
       "    <tr>\n",
       "      <th>3</th>\n",
       "      <td>b</td>\n",
       "      <td>27.83</td>\n",
       "      <td>1.540</td>\n",
       "      <td>u</td>\n",
       "      <td>g</td>\n",
       "      <td>w</td>\n",
       "      <td>v</td>\n",
       "      <td>3.75</td>\n",
       "      <td>t</td>\n",
       "      <td>t</td>\n",
       "      <td>5</td>\n",
       "      <td>t</td>\n",
       "      <td>g</td>\n",
       "      <td>00100</td>\n",
       "      <td>3</td>\n",
       "      <td>+</td>\n",
       "    </tr>\n",
       "    <tr>\n",
       "      <th>4</th>\n",
       "      <td>b</td>\n",
       "      <td>20.17</td>\n",
       "      <td>5.625</td>\n",
       "      <td>u</td>\n",
       "      <td>g</td>\n",
       "      <td>w</td>\n",
       "      <td>v</td>\n",
       "      <td>1.71</td>\n",
       "      <td>t</td>\n",
       "      <td>f</td>\n",
       "      <td>0</td>\n",
       "      <td>f</td>\n",
       "      <td>s</td>\n",
       "      <td>00120</td>\n",
       "      <td>0</td>\n",
       "      <td>+</td>\n",
       "    </tr>\n",
       "  </tbody>\n",
       "</table>\n",
       "</div>"
      ],
      "text/plain": [
       "  A1     A2     A3 A4 A5 A6 A7    A8 A9 A10  A11 A12 A13    A14  A15 A16\n",
       "0  b  30.83  0.000  u  g  w  v  1.25  t   t    1   f   g  00202    0   +\n",
       "1  a  58.67  4.460  u  g  q  h  3.04  t   t    6   f   g  00043  560   +\n",
       "2  a  24.50  0.500  u  g  q  h  1.50  t   f    0   f   g  00280  824   +\n",
       "3  b  27.83  1.540  u  g  w  v  3.75  t   t    5   t   g  00100    3   +\n",
       "4  b  20.17  5.625  u  g  w  v  1.71  t   f    0   f   s  00120    0   +"
      ]
     },
     "metadata": {},
     "output_type": "display_data"
    },
    {
     "name": "stdout",
     "output_type": "stream",
     "text": [
      "<class 'pandas.core.frame.DataFrame'>\n",
      "RangeIndex: 690 entries, 0 to 689\n",
      "Data columns (total 16 columns):\n",
      " #   Column  Non-Null Count  Dtype  \n",
      "---  ------  --------------  -----  \n",
      " 0   A1      690 non-null    object \n",
      " 1   A2      690 non-null    object \n",
      " 2   A3      690 non-null    float64\n",
      " 3   A4      690 non-null    object \n",
      " 4   A5      690 non-null    object \n",
      " 5   A6      690 non-null    object \n",
      " 6   A7      690 non-null    object \n",
      " 7   A8      690 non-null    float64\n",
      " 8   A9      690 non-null    object \n",
      " 9   A10     690 non-null    object \n",
      " 10  A11     690 non-null    int64  \n",
      " 11  A12     690 non-null    object \n",
      " 12  A13     690 non-null    object \n",
      " 13  A14     690 non-null    object \n",
      " 14  A15     690 non-null    int64  \n",
      " 15  A16     690 non-null    object \n",
      "dtypes: float64(2), int64(2), object(12)\n",
      "memory usage: 86.4+ KB\n"
     ]
    },
    {
     "data": {
      "text/plain": [
       "None"
      ]
     },
     "metadata": {},
     "output_type": "display_data"
    }
   ],
   "source": [
    "# Load dataset\n",
    "column_names = [\"A1\", \"A2\",\"A3\",\"A4\", \"A5\", \"A6\", \"A7\", \"A8\", \"A9\", \"A10\", \"A11\", \"A12\", \"A13\", \"A14\", \"A15\",\"A16\"]\n",
    "df = pd.read_csv(\"datasets/crx.data\", header= None, names=column_names)\n",
    "\n",
    "# Inspect data\n",
    "display(df.head())\n",
    "\n",
    "# Inspect data information\n",
    "display(df.info())"
   ]
  },
  {
   "cell_type": "code",
   "execution_count": 61,
   "id": "76440408",
   "metadata": {
    "execution": {
     "iopub.execute_input": "2022-09-26T04:14:01.093455Z",
     "iopub.status.busy": "2022-09-26T04:14:01.092394Z",
     "iopub.status.idle": "2022-09-26T04:14:01.101094Z",
     "shell.execute_reply": "2022-09-26T04:14:01.100425Z"
    },
    "papermill": {
     "duration": 0.017905,
     "end_time": "2022-09-26T04:14:01.102873",
     "exception": false,
     "start_time": "2022-09-26T04:14:01.084968",
     "status": "completed"
    },
    "tags": []
   },
   "outputs": [
    {
     "data": {
      "text/plain": [
       "A1     0\n",
       "A2     0\n",
       "A3     0\n",
       "A4     0\n",
       "A5     0\n",
       "A6     0\n",
       "A7     0\n",
       "A8     0\n",
       "A9     0\n",
       "A10    0\n",
       "A11    0\n",
       "A12    0\n",
       "A13    0\n",
       "A14    0\n",
       "A15    0\n",
       "A16    0\n",
       "dtype: int64"
      ]
     },
     "metadata": {},
     "output_type": "display_data"
    }
   ],
   "source": [
    "# Inspect missing values in the dataset\n",
    "display(df.isna().sum())"
   ]
  },
  {
   "cell_type": "markdown",
   "id": "09aed571",
   "metadata": {
    "papermill": {
     "duration": 0.005954,
     "end_time": "2022-09-26T04:14:01.115094",
     "exception": false,
     "start_time": "2022-09-26T04:14:01.109140",
     "status": "completed"
    },
    "tags": []
   },
   "source": [
    "# 3. Handling the missing values"
   ]
  },
  {
   "cell_type": "code",
   "execution_count": 62,
   "id": "839637db",
   "metadata": {
    "execution": {
     "iopub.execute_input": "2022-09-26T04:14:01.129524Z",
     "iopub.status.busy": "2022-09-26T04:14:01.128857Z",
     "iopub.status.idle": "2022-09-26T04:14:01.136923Z",
     "shell.execute_reply": "2022-09-26T04:14:01.136009Z"
    },
    "papermill": {
     "duration": 0.017544,
     "end_time": "2022-09-26T04:14:01.139031",
     "exception": false,
     "start_time": "2022-09-26T04:14:01.121487",
     "status": "completed"
    },
    "tags": []
   },
   "outputs": [],
   "source": [
    "# Change age df1 to numuric\n",
    "df['A2'] = pd.to_numeric(df['A2'], errors='coerce')\n",
    "\n",
    "# Drop the features A14, that is zipcode\n",
    "df = df.drop(['A14'], axis=1)"
   ]
  },
  {
   "cell_type": "code",
   "execution_count": 63,
   "id": "a0d65fc8",
   "metadata": {
    "execution": {
     "iopub.execute_input": "2022-09-26T04:14:01.165543Z",
     "iopub.status.busy": "2022-09-26T04:14:01.165093Z",
     "iopub.status.idle": "2022-09-26T04:14:01.187452Z",
     "shell.execute_reply": "2022-09-26T04:14:01.186426Z"
    },
    "papermill": {
     "duration": 0.03307,
     "end_time": "2022-09-26T04:14:01.190838",
     "exception": false,
     "start_time": "2022-09-26T04:14:01.157768",
     "status": "completed"
    },
    "tags": []
   },
   "outputs": [
    {
     "name": "stdout",
     "output_type": "stream",
     "text": [
      "A1     0\n",
      "A2     0\n",
      "A3     0\n",
      "A4     0\n",
      "A5     0\n",
      "A6     0\n",
      "A7     0\n",
      "A8     0\n",
      "A9     0\n",
      "A10    0\n",
      "A11    0\n",
      "A12    0\n",
      "A13    0\n",
      "A15    0\n",
      "A16    0\n",
      "dtype: int64\n"
     ]
    }
   ],
   "source": [
    "# Missing values\n",
    "df = df.replace('?', np.NaN)\n",
    "# Iterate over each column of cc_apps_train\n",
    "for col in df:\n",
    "    # Check if the column is of object type\n",
    "    if df[col].dtypes == 'object':\n",
    "        # Impute with the most frequent value\n",
    "        df[col] = df[col].fillna(df[col].value_counts().index[0])\n",
    "    else:\n",
    "        df[col] = df[col].fillna(df[col].mean())\n",
    "\n",
    "print(df.isnull().sum())"
   ]
  },
  {
   "cell_type": "markdown",
   "id": "64a7726f",
   "metadata": {
    "papermill": {
     "duration": 0.006062,
     "end_time": "2022-09-26T04:14:01.203817",
     "exception": false,
     "start_time": "2022-09-26T04:14:01.197755",
     "status": "completed"
    },
    "tags": []
   },
   "source": [
    "# 4. Preprocessing the data\n",
    "Convert the non-numeric data into numeric."
   ]
  },
  {
   "cell_type": "code",
   "execution_count": 64,
   "id": "f403e4f9",
   "metadata": {
    "execution": {
     "iopub.execute_input": "2022-09-26T04:14:01.218200Z",
     "iopub.status.busy": "2022-09-26T04:14:01.217356Z",
     "iopub.status.idle": "2022-09-26T04:14:01.254767Z",
     "shell.execute_reply": "2022-09-26T04:14:01.253782Z"
    },
    "papermill": {
     "duration": 0.046937,
     "end_time": "2022-09-26T04:14:01.256924",
     "exception": false,
     "start_time": "2022-09-26T04:14:01.209987",
     "status": "completed"
    },
    "tags": []
   },
   "outputs": [
    {
     "data": {
      "text/html": [
       "<div>\n",
       "<style scoped>\n",
       "    .dataframe tbody tr th:only-of-type {\n",
       "        vertical-align: middle;\n",
       "    }\n",
       "\n",
       "    .dataframe tbody tr th {\n",
       "        vertical-align: top;\n",
       "    }\n",
       "\n",
       "    .dataframe thead th {\n",
       "        text-align: right;\n",
       "    }\n",
       "</style>\n",
       "<table border=\"1\" class=\"dataframe\">\n",
       "  <thead>\n",
       "    <tr style=\"text-align: right;\">\n",
       "      <th></th>\n",
       "      <th>A1</th>\n",
       "      <th>A2</th>\n",
       "      <th>A3</th>\n",
       "      <th>A8</th>\n",
       "      <th>A9</th>\n",
       "      <th>A10</th>\n",
       "      <th>A11</th>\n",
       "      <th>A12</th>\n",
       "      <th>A15</th>\n",
       "      <th>A16</th>\n",
       "      <th>...</th>\n",
       "      <th>A7_ff</th>\n",
       "      <th>A7_h</th>\n",
       "      <th>A7_j</th>\n",
       "      <th>A7_n</th>\n",
       "      <th>A7_o</th>\n",
       "      <th>A7_v</th>\n",
       "      <th>A7_z</th>\n",
       "      <th>A13_g</th>\n",
       "      <th>A13_p</th>\n",
       "      <th>A13_s</th>\n",
       "    </tr>\n",
       "  </thead>\n",
       "  <tbody>\n",
       "    <tr>\n",
       "      <th>0</th>\n",
       "      <td>1</td>\n",
       "      <td>30.83</td>\n",
       "      <td>0.000</td>\n",
       "      <td>1.25</td>\n",
       "      <td>0</td>\n",
       "      <td>0</td>\n",
       "      <td>1</td>\n",
       "      <td>1</td>\n",
       "      <td>0</td>\n",
       "      <td>0</td>\n",
       "      <td>...</td>\n",
       "      <td>0</td>\n",
       "      <td>0</td>\n",
       "      <td>0</td>\n",
       "      <td>0</td>\n",
       "      <td>0</td>\n",
       "      <td>1</td>\n",
       "      <td>0</td>\n",
       "      <td>1</td>\n",
       "      <td>0</td>\n",
       "      <td>0</td>\n",
       "    </tr>\n",
       "    <tr>\n",
       "      <th>1</th>\n",
       "      <td>0</td>\n",
       "      <td>58.67</td>\n",
       "      <td>4.460</td>\n",
       "      <td>3.04</td>\n",
       "      <td>0</td>\n",
       "      <td>0</td>\n",
       "      <td>6</td>\n",
       "      <td>1</td>\n",
       "      <td>560</td>\n",
       "      <td>0</td>\n",
       "      <td>...</td>\n",
       "      <td>0</td>\n",
       "      <td>1</td>\n",
       "      <td>0</td>\n",
       "      <td>0</td>\n",
       "      <td>0</td>\n",
       "      <td>0</td>\n",
       "      <td>0</td>\n",
       "      <td>1</td>\n",
       "      <td>0</td>\n",
       "      <td>0</td>\n",
       "    </tr>\n",
       "    <tr>\n",
       "      <th>2</th>\n",
       "      <td>0</td>\n",
       "      <td>24.50</td>\n",
       "      <td>0.500</td>\n",
       "      <td>1.50</td>\n",
       "      <td>0</td>\n",
       "      <td>1</td>\n",
       "      <td>0</td>\n",
       "      <td>1</td>\n",
       "      <td>824</td>\n",
       "      <td>0</td>\n",
       "      <td>...</td>\n",
       "      <td>0</td>\n",
       "      <td>1</td>\n",
       "      <td>0</td>\n",
       "      <td>0</td>\n",
       "      <td>0</td>\n",
       "      <td>0</td>\n",
       "      <td>0</td>\n",
       "      <td>1</td>\n",
       "      <td>0</td>\n",
       "      <td>0</td>\n",
       "    </tr>\n",
       "    <tr>\n",
       "      <th>3</th>\n",
       "      <td>1</td>\n",
       "      <td>27.83</td>\n",
       "      <td>1.540</td>\n",
       "      <td>3.75</td>\n",
       "      <td>0</td>\n",
       "      <td>0</td>\n",
       "      <td>5</td>\n",
       "      <td>0</td>\n",
       "      <td>3</td>\n",
       "      <td>0</td>\n",
       "      <td>...</td>\n",
       "      <td>0</td>\n",
       "      <td>0</td>\n",
       "      <td>0</td>\n",
       "      <td>0</td>\n",
       "      <td>0</td>\n",
       "      <td>1</td>\n",
       "      <td>0</td>\n",
       "      <td>1</td>\n",
       "      <td>0</td>\n",
       "      <td>0</td>\n",
       "    </tr>\n",
       "    <tr>\n",
       "      <th>4</th>\n",
       "      <td>1</td>\n",
       "      <td>20.17</td>\n",
       "      <td>5.625</td>\n",
       "      <td>1.71</td>\n",
       "      <td>0</td>\n",
       "      <td>1</td>\n",
       "      <td>0</td>\n",
       "      <td>1</td>\n",
       "      <td>0</td>\n",
       "      <td>0</td>\n",
       "      <td>...</td>\n",
       "      <td>0</td>\n",
       "      <td>0</td>\n",
       "      <td>0</td>\n",
       "      <td>0</td>\n",
       "      <td>0</td>\n",
       "      <td>1</td>\n",
       "      <td>0</td>\n",
       "      <td>0</td>\n",
       "      <td>0</td>\n",
       "      <td>1</td>\n",
       "    </tr>\n",
       "    <tr>\n",
       "      <th>...</th>\n",
       "      <td>...</td>\n",
       "      <td>...</td>\n",
       "      <td>...</td>\n",
       "      <td>...</td>\n",
       "      <td>...</td>\n",
       "      <td>...</td>\n",
       "      <td>...</td>\n",
       "      <td>...</td>\n",
       "      <td>...</td>\n",
       "      <td>...</td>\n",
       "      <td>...</td>\n",
       "      <td>...</td>\n",
       "      <td>...</td>\n",
       "      <td>...</td>\n",
       "      <td>...</td>\n",
       "      <td>...</td>\n",
       "      <td>...</td>\n",
       "      <td>...</td>\n",
       "      <td>...</td>\n",
       "      <td>...</td>\n",
       "      <td>...</td>\n",
       "    </tr>\n",
       "    <tr>\n",
       "      <th>685</th>\n",
       "      <td>1</td>\n",
       "      <td>21.08</td>\n",
       "      <td>10.085</td>\n",
       "      <td>1.25</td>\n",
       "      <td>1</td>\n",
       "      <td>1</td>\n",
       "      <td>0</td>\n",
       "      <td>1</td>\n",
       "      <td>0</td>\n",
       "      <td>1</td>\n",
       "      <td>...</td>\n",
       "      <td>0</td>\n",
       "      <td>1</td>\n",
       "      <td>0</td>\n",
       "      <td>0</td>\n",
       "      <td>0</td>\n",
       "      <td>0</td>\n",
       "      <td>0</td>\n",
       "      <td>1</td>\n",
       "      <td>0</td>\n",
       "      <td>0</td>\n",
       "    </tr>\n",
       "    <tr>\n",
       "      <th>686</th>\n",
       "      <td>0</td>\n",
       "      <td>22.67</td>\n",
       "      <td>0.750</td>\n",
       "      <td>2.00</td>\n",
       "      <td>1</td>\n",
       "      <td>0</td>\n",
       "      <td>2</td>\n",
       "      <td>0</td>\n",
       "      <td>394</td>\n",
       "      <td>1</td>\n",
       "      <td>...</td>\n",
       "      <td>0</td>\n",
       "      <td>0</td>\n",
       "      <td>0</td>\n",
       "      <td>0</td>\n",
       "      <td>0</td>\n",
       "      <td>1</td>\n",
       "      <td>0</td>\n",
       "      <td>1</td>\n",
       "      <td>0</td>\n",
       "      <td>0</td>\n",
       "    </tr>\n",
       "    <tr>\n",
       "      <th>687</th>\n",
       "      <td>0</td>\n",
       "      <td>25.25</td>\n",
       "      <td>13.500</td>\n",
       "      <td>2.00</td>\n",
       "      <td>1</td>\n",
       "      <td>0</td>\n",
       "      <td>1</td>\n",
       "      <td>0</td>\n",
       "      <td>1</td>\n",
       "      <td>1</td>\n",
       "      <td>...</td>\n",
       "      <td>1</td>\n",
       "      <td>0</td>\n",
       "      <td>0</td>\n",
       "      <td>0</td>\n",
       "      <td>0</td>\n",
       "      <td>0</td>\n",
       "      <td>0</td>\n",
       "      <td>1</td>\n",
       "      <td>0</td>\n",
       "      <td>0</td>\n",
       "    </tr>\n",
       "    <tr>\n",
       "      <th>688</th>\n",
       "      <td>1</td>\n",
       "      <td>17.92</td>\n",
       "      <td>0.205</td>\n",
       "      <td>0.04</td>\n",
       "      <td>1</td>\n",
       "      <td>1</td>\n",
       "      <td>0</td>\n",
       "      <td>1</td>\n",
       "      <td>750</td>\n",
       "      <td>1</td>\n",
       "      <td>...</td>\n",
       "      <td>0</td>\n",
       "      <td>0</td>\n",
       "      <td>0</td>\n",
       "      <td>0</td>\n",
       "      <td>0</td>\n",
       "      <td>1</td>\n",
       "      <td>0</td>\n",
       "      <td>1</td>\n",
       "      <td>0</td>\n",
       "      <td>0</td>\n",
       "    </tr>\n",
       "    <tr>\n",
       "      <th>689</th>\n",
       "      <td>1</td>\n",
       "      <td>35.00</td>\n",
       "      <td>3.375</td>\n",
       "      <td>8.29</td>\n",
       "      <td>1</td>\n",
       "      <td>1</td>\n",
       "      <td>0</td>\n",
       "      <td>0</td>\n",
       "      <td>0</td>\n",
       "      <td>1</td>\n",
       "      <td>...</td>\n",
       "      <td>0</td>\n",
       "      <td>1</td>\n",
       "      <td>0</td>\n",
       "      <td>0</td>\n",
       "      <td>0</td>\n",
       "      <td>0</td>\n",
       "      <td>0</td>\n",
       "      <td>1</td>\n",
       "      <td>0</td>\n",
       "      <td>0</td>\n",
       "    </tr>\n",
       "  </tbody>\n",
       "</table>\n",
       "<p>690 rows × 42 columns</p>\n",
       "</div>"
      ],
      "text/plain": [
       "     A1     A2      A3    A8  A9  A10  A11  A12  A15  A16  ...  A7_ff  A7_h  \\\n",
       "0     1  30.83   0.000  1.25   0    0    1    1    0    0  ...      0     0   \n",
       "1     0  58.67   4.460  3.04   0    0    6    1  560    0  ...      0     1   \n",
       "2     0  24.50   0.500  1.50   0    1    0    1  824    0  ...      0     1   \n",
       "3     1  27.83   1.540  3.75   0    0    5    0    3    0  ...      0     0   \n",
       "4     1  20.17   5.625  1.71   0    1    0    1    0    0  ...      0     0   \n",
       "..   ..    ...     ...   ...  ..  ...  ...  ...  ...  ...  ...    ...   ...   \n",
       "685   1  21.08  10.085  1.25   1    1    0    1    0    1  ...      0     1   \n",
       "686   0  22.67   0.750  2.00   1    0    2    0  394    1  ...      0     0   \n",
       "687   0  25.25  13.500  2.00   1    0    1    0    1    1  ...      1     0   \n",
       "688   1  17.92   0.205  0.04   1    1    0    1  750    1  ...      0     0   \n",
       "689   1  35.00   3.375  8.29   1    1    0    0    0    1  ...      0     1   \n",
       "\n",
       "     A7_j  A7_n  A7_o  A7_v  A7_z  A13_g  A13_p  A13_s  \n",
       "0       0     0     0     1     0      1      0      0  \n",
       "1       0     0     0     0     0      1      0      0  \n",
       "2       0     0     0     0     0      1      0      0  \n",
       "3       0     0     0     1     0      1      0      0  \n",
       "4       0     0     0     1     0      0      0      1  \n",
       "..    ...   ...   ...   ...   ...    ...    ...    ...  \n",
       "685     0     0     0     0     0      1      0      0  \n",
       "686     0     0     0     1     0      1      0      0  \n",
       "687     0     0     0     0     0      1      0      0  \n",
       "688     0     0     0     1     0      1      0      0  \n",
       "689     0     0     0     0     0      1      0      0  \n",
       "\n",
       "[690 rows x 42 columns]"
      ]
     },
     "metadata": {},
     "output_type": "display_data"
    }
   ],
   "source": [
    "df['A1'] = df['A1'].apply(lambda x: 0 if x=='a' else 1)\n",
    "df['A9'] = df['A9'].apply(lambda x: 0 if x=='t' else 1)\n",
    "df['A10'] = df['A10'].apply(lambda x: 0 if x=='t' else 1)\n",
    "df['A12'] = df['A12'].apply(lambda x: 0 if x=='t' else 1)\n",
    "df['A16'] = df['A16'].apply(lambda x: 0 if x=='+' else 1)\n",
    "df = pd.get_dummies(df)\n",
    "display(df)"
   ]
  },
  {
   "cell_type": "markdown",
   "id": "9955137e",
   "metadata": {
    "papermill": {
     "duration": 0.006539,
     "end_time": "2022-09-26T04:14:01.270791",
     "exception": false,
     "start_time": "2022-09-26T04:14:01.264252",
     "status": "completed"
    },
    "tags": []
   },
   "source": [
    "# Splitting the dataset into train and test sets\n",
    "A16: ApprovalStatus is our target label."
   ]
  },
  {
   "cell_type": "code",
   "execution_count": 65,
   "id": "9994ea25",
   "metadata": {
    "execution": {
     "iopub.execute_input": "2022-09-26T04:14:01.286194Z",
     "iopub.status.busy": "2022-09-26T04:14:01.285595Z",
     "iopub.status.idle": "2022-09-26T04:14:02.394290Z",
     "shell.execute_reply": "2022-09-26T04:14:02.392897Z"
    },
    "papermill": {
     "duration": 1.119212,
     "end_time": "2022-09-26T04:14:02.396763",
     "exception": false,
     "start_time": "2022-09-26T04:14:01.277551",
     "status": "completed"
    },
    "tags": []
   },
   "outputs": [
    {
     "name": "stdout",
     "output_type": "stream",
     "text": [
      "(690, 41)\n",
      "(690,)\n"
     ]
    }
   ],
   "source": [
    "# Import train_test_split\n",
    "from sklearn.model_selection import train_test_split\n",
    "\n",
    "y = df['A16'].values\n",
    "X = df.drop(['A16'], axis=1).values\n",
    "print(X.shape)\n",
    "print(y.shape)\n",
    "\n",
    "# Split into train and test sets\n",
    "X_train, X_test, y_train, y_test = train_test_split(X, y, test_size=0.33, random_state=42)"
   ]
  },
  {
   "cell_type": "markdown",
   "id": "43b1490d",
   "metadata": {
    "papermill": {
     "duration": 0.006681,
     "end_time": "2022-09-26T04:14:02.410578",
     "exception": false,
     "start_time": "2022-09-26T04:14:02.403897",
     "status": "completed"
    },
    "tags": []
   },
   "source": [
    "# Fitting a logistic regression model to the train set\n"
   ]
  },
  {
   "cell_type": "code",
   "execution_count": 66,
   "id": "7eb09410",
   "metadata": {
    "execution": {
     "iopub.execute_input": "2022-09-26T04:14:02.425999Z",
     "iopub.status.busy": "2022-09-26T04:14:02.425567Z",
     "iopub.status.idle": "2022-09-26T04:14:02.432249Z",
     "shell.execute_reply": "2022-09-26T04:14:02.431453Z"
    },
    "papermill": {
     "duration": 0.01654,
     "end_time": "2022-09-26T04:14:02.434068",
     "exception": false,
     "start_time": "2022-09-26T04:14:02.417528",
     "status": "completed"
    },
    "tags": []
   },
   "outputs": [],
   "source": [
    "from sklearn.preprocessing import MinMaxScaler\n",
    "\n",
    "# Instantiate MinMaxScaler and use it to rescale X_train and X_test feature_range\n",
    "scaler = MinMaxScaler()\n",
    "rescaledX_train = scaler.fit_transform(X_train)\n",
    "rescaledX_test = scaler.transform(X_test)\n"
   ]
  },
  {
   "cell_type": "code",
   "execution_count": 67,
   "id": "14b1f925",
   "metadata": {
    "execution": {
     "iopub.execute_input": "2022-09-26T04:14:02.463555Z",
     "iopub.status.busy": "2022-09-26T04:14:02.462680Z",
     "iopub.status.idle": "2022-09-26T04:14:02.566555Z",
     "shell.execute_reply": "2022-09-26T04:14:02.565338Z"
    },
    "papermill": {
     "duration": 0.114556,
     "end_time": "2022-09-26T04:14:02.569214",
     "exception": false,
     "start_time": "2022-09-26T04:14:02.454658",
     "status": "completed"
    },
    "tags": []
   },
   "outputs": [
    {
     "data": {
      "text/plain": [
       "LogisticRegression()"
      ]
     },
     "execution_count": 67,
     "metadata": {},
     "output_type": "execute_result"
    }
   ],
   "source": [
    "# Import LogisticRegression\n",
    "from sklearn.linear_model import LogisticRegression\n",
    "\n",
    "# Instantiate a LogisticRegression classifier with default parameter values\n",
    "logreg = LogisticRegression()\n",
    "\n",
    "# Fit logreg to the train set\n",
    "logreg.fit(rescaledX_train, y_train)"
   ]
  },
  {
   "cell_type": "markdown",
   "id": "68185efa",
   "metadata": {
    "papermill": {
     "duration": 0.010777,
     "end_time": "2022-09-26T04:14:02.591233",
     "exception": false,
     "start_time": "2022-09-26T04:14:02.580456",
     "status": "completed"
    },
    "tags": []
   },
   "source": [
    "## Making predictions and evaluating performance"
   ]
  },
  {
   "cell_type": "code",
   "execution_count": 68,
   "id": "b9a85758",
   "metadata": {
    "execution": {
     "iopub.execute_input": "2022-09-26T04:14:02.615917Z",
     "iopub.status.busy": "2022-09-26T04:14:02.615313Z",
     "iopub.status.idle": "2022-09-26T04:14:02.630361Z",
     "shell.execute_reply": "2022-09-26T04:14:02.629330Z"
    },
    "papermill": {
     "duration": 0.032193,
     "end_time": "2022-09-26T04:14:02.634980",
     "exception": false,
     "start_time": "2022-09-26T04:14:02.602787",
     "status": "completed"
    },
    "tags": []
   },
   "outputs": [
    {
     "name": "stdout",
     "output_type": "stream",
     "text": [
      "Accuracy of logistic regression classifier:  0.8464912280701754\n",
      "confusion matrix: \n",
      " [[ 93  10]\n",
      " [ 25 100]]\n"
     ]
    }
   ],
   "source": [
    "# Import confusion_matrix\n",
    "from sklearn.metrics import confusion_matrix\n",
    "\n",
    "# Use logreg to predict instances from the test set and store it\n",
    "y_pred = logreg.predict(rescaledX_test)\n",
    "\n",
    "# Get the accuracy score of logreg model and print it\n",
    "print(\"Accuracy of logistic regression classifier: \", logreg.score(rescaledX_test, y_test))\n",
    "\n",
    "# Print the confusion matrix of the logreg model\n",
    "print(\"confusion matrix: \\n\", confusion_matrix(y_test, y_pred))"
   ]
  },
  {
   "cell_type": "code",
   "execution_count": 69,
   "id": "40ff8fc8",
   "metadata": {
    "execution": {
     "iopub.execute_input": "2022-09-26T04:14:02.682511Z",
     "iopub.status.busy": "2022-09-26T04:14:02.681911Z",
     "iopub.status.idle": "2022-09-26T04:14:02.688850Z",
     "shell.execute_reply": "2022-09-26T04:14:02.687595Z"
    },
    "papermill": {
     "duration": 0.022403,
     "end_time": "2022-09-26T04:14:02.691586",
     "exception": false,
     "start_time": "2022-09-26T04:14:02.669183",
     "status": "completed"
    },
    "tags": []
   },
   "outputs": [],
   "source": [
    "# Import GridSearchCV\n",
    "from sklearn.model_selection import GridSearchCV\n",
    "# Define the grid of values for tol and max_iter\n",
    "\n",
    "tol = [0.01, 0.001, 0.0001]\n",
    "max_iter = [100, 150, 200]\n",
    "\n",
    "# Create a dictionary where tol and max_iter are keys and the lists of their values are corresponding values\n",
    "param_grid = dict(tol = tol , max_iter = max_iter)"
   ]
  },
  {
   "cell_type": "markdown",
   "id": "ef3293a2",
   "metadata": {
    "papermill": {
     "duration": 0.010677,
     "end_time": "2022-09-26T04:14:02.713833",
     "exception": false,
     "start_time": "2022-09-26T04:14:02.703156",
     "status": "completed"
    },
    "tags": []
   },
   "source": [
    "<h3>6. Find a best model.</h3>\n",
    "Instruct GridSearchCV() to perform a cross-validation of 5 folds."
   ]
  },
  {
   "cell_type": "code",
   "execution_count": 70,
   "id": "16762342",
   "metadata": {
    "execution": {
     "iopub.execute_input": "2022-09-26T04:14:02.737989Z",
     "iopub.status.busy": "2022-09-26T04:14:02.737452Z",
     "iopub.status.idle": "2022-09-26T04:14:03.540173Z",
     "shell.execute_reply": "2022-09-26T04:14:03.538939Z"
    },
    "papermill": {
     "duration": 0.81962,
     "end_time": "2022-09-26T04:14:03.544594",
     "exception": false,
     "start_time": "2022-09-26T04:14:02.724974",
     "status": "completed"
    },
    "tags": []
   },
   "outputs": [
    {
     "name": "stdout",
     "output_type": "stream",
     "text": [
      "Best: 0.857083 using {'max_iter': 100, 'tol': 0.01}\n",
      "Accuracy of logistic regression classifier:  0.8464912280701754\n"
     ]
    }
   ],
   "source": [
    "# Instantiate GridSearchCV with the required parameters\n",
    "grid_model = GridSearchCV(estimator=logreg, param_grid=param_grid, cv=5)\n",
    "\n",
    "# Fit grid_model to the data\n",
    "grid_model_result = grid_model.fit(rescaledX_train, y_train)\n",
    "\n",
    "# Summarize results\n",
    "best_score, best_params = grid_model_result.best_score_, grid_model_result.best_params_\n",
    "print(\"Best: %f using %s\" % (best_score, best_params))\n",
    "\n",
    "# Extract the best model and evaluate it on the test set\n",
    "best_model = grid_model_result.best_estimator_\n",
    "best_model.predict(rescaledX_test)\n",
    "\n",
    "print(\"Accuracy of logistic regression classifier: \", best_model.score(rescaledX_test, y_test))"
   ]
  }
 ],
 "metadata": {
  "kernelspec": {
   "display_name": "Python 3 (ipykernel)",
   "language": "python",
   "name": "python3"
  },
  "language_info": {
   "codemirror_mode": {
    "name": "ipython",
    "version": 3
   },
   "file_extension": ".py",
   "mimetype": "text/x-python",
   "name": "python",
   "nbconvert_exporter": "python",
   "pygments_lexer": "ipython3",
   "version": "3.9.13"
  },
  "papermill": {
   "default_parameters": {},
   "duration": 12.623463,
   "end_time": "2022-09-26T04:14:04.307214",
   "environment_variables": {},
   "exception": null,
   "input_path": "__notebook__.ipynb",
   "output_path": "__notebook__.ipynb",
   "parameters": {},
   "start_time": "2022-09-26T04:13:51.683751",
   "version": "2.3.4"
  }
 },
 "nbformat": 4,
 "nbformat_minor": 5
}
